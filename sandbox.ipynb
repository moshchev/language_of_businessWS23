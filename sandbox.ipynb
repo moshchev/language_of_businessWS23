{
 "cells": [
  {
   "cell_type": "code",
   "execution_count": 1,
   "metadata": {},
   "outputs": [
    {
     "ename": "TypeError",
     "evalue": "Cannot perform 'rand_' with a dtyped [bool] array and scalar of type [bool]",
     "output_type": "error",
     "traceback": [
      "\u001b[0;31m---------------------------------------------------------------------------\u001b[0m",
      "\u001b[0;31mTypeError\u001b[0m                                 Traceback (most recent call last)",
      "File \u001b[0;32m~/Desktop/projects/10k_evaluation/.10k/lib/python3.9/site-packages/pandas/core/ops/array_ops.py:364\u001b[0m, in \u001b[0;36mna_logical_op\u001b[0;34m(x, y, op)\u001b[0m\n\u001b[1;32m    355\u001b[0m \u001b[39mtry\u001b[39;00m:\n\u001b[1;32m    356\u001b[0m     \u001b[39m# For exposition, write:\u001b[39;00m\n\u001b[1;32m    357\u001b[0m     \u001b[39m#  yarr = isinstance(y, np.ndarray)\u001b[39;00m\n\u001b[0;32m   (...)\u001b[0m\n\u001b[1;32m    362\u001b[0m     \u001b[39m# Then Cases where this goes through without raising include:\u001b[39;00m\n\u001b[1;32m    363\u001b[0m     \u001b[39m#  (xint or xbool) and (yint or bool)\u001b[39;00m\n\u001b[0;32m--> 364\u001b[0m     result \u001b[39m=\u001b[39m op(x, y)\n\u001b[1;32m    365\u001b[0m \u001b[39mexcept\u001b[39;00m \u001b[39mTypeError\u001b[39;00m:\n",
      "File \u001b[0;32m~/Desktop/projects/10k_evaluation/.10k/lib/python3.9/site-packages/pandas/core/roperator.py:54\u001b[0m, in \u001b[0;36mrand_\u001b[0;34m(left, right)\u001b[0m\n\u001b[1;32m     53\u001b[0m \u001b[39mdef\u001b[39;00m \u001b[39mrand_\u001b[39m(left, right):\n\u001b[0;32m---> 54\u001b[0m     \u001b[39mreturn\u001b[39;00m operator\u001b[39m.\u001b[39;49mand_(right, left)\n",
      "\u001b[0;31mTypeError\u001b[0m: ufunc 'bitwise_and' not supported for the input types, and the inputs could not be safely coerced to any supported types according to the casting rule ''safe''",
      "\nDuring handling of the above exception, another exception occurred:\n",
      "\u001b[0;31mValueError\u001b[0m                                Traceback (most recent call last)",
      "File \u001b[0;32m~/Desktop/projects/10k_evaluation/.10k/lib/python3.9/site-packages/pandas/core/ops/array_ops.py:378\u001b[0m, in \u001b[0;36mna_logical_op\u001b[0;34m(x, y, op)\u001b[0m\n\u001b[1;32m    377\u001b[0m \u001b[39mtry\u001b[39;00m:\n\u001b[0;32m--> 378\u001b[0m     result \u001b[39m=\u001b[39m libops\u001b[39m.\u001b[39;49mscalar_binop(x, y, op)\n\u001b[1;32m    379\u001b[0m \u001b[39mexcept\u001b[39;00m (\n\u001b[1;32m    380\u001b[0m     \u001b[39mTypeError\u001b[39;00m,\n\u001b[1;32m    381\u001b[0m     \u001b[39mValueError\u001b[39;00m,\n\u001b[0;32m   (...)\u001b[0m\n\u001b[1;32m    384\u001b[0m     \u001b[39mNotImplementedError\u001b[39;00m,\n\u001b[1;32m    385\u001b[0m ) \u001b[39mas\u001b[39;00m err:\n",
      "File \u001b[0;32mops.pyx:180\u001b[0m, in \u001b[0;36mpandas._libs.ops.scalar_binop\u001b[0;34m()\u001b[0m\n",
      "\u001b[0;31mValueError\u001b[0m: Buffer dtype mismatch, expected 'Python object' but got 'bool'",
      "\nThe above exception was the direct cause of the following exception:\n",
      "\u001b[0;31mTypeError\u001b[0m                                 Traceback (most recent call last)",
      "\u001b[1;32m/Users/alexander/Desktop/projects/10k_evaluation/sandbox.ipynb Cell 1\u001b[0m line \u001b[0;36m4\n\u001b[1;32m      <a href='vscode-notebook-cell:/Users/alexander/Desktop/projects/10k_evaluation/sandbox.ipynb#W0sZmlsZQ%3D%3D?line=0'>1</a>\u001b[0m \u001b[39mfrom\u001b[39;00m \u001b[39mdata_retrival\u001b[39;00m \u001b[39mimport\u001b[39;00m \u001b[39m*\u001b[39m\n\u001b[1;32m      <a href='vscode-notebook-cell:/Users/alexander/Desktop/projects/10k_evaluation/sandbox.ipynb#W0sZmlsZQ%3D%3D?line=2'>3</a>\u001b[0m pepsi \u001b[39m=\u001b[39m get_data(\u001b[39m'\u001b[39m\u001b[39mPEP\u001b[39m\u001b[39m'\u001b[39m)\n\u001b[0;32m----> <a href='vscode-notebook-cell:/Users/alexander/Desktop/projects/10k_evaluation/sandbox.ipynb#W0sZmlsZQ%3D%3D?line=3'>4</a>\u001b[0m get_rate(pepsi, \u001b[39m'\u001b[39;49m\u001b[39mTotal Assets\u001b[39;49m\u001b[39m'\u001b[39;49m, \u001b[39m'\u001b[39;49m\u001b[39mTotal Debt\u001b[39;49m\u001b[39m'\u001b[39;49m, \u001b[39m'\u001b[39;49m\u001b[39mbs\u001b[39;49m\u001b[39m'\u001b[39;49m, \u001b[39m'\u001b[39;49m\u001b[39mbs\u001b[39;49m\u001b[39m'\u001b[39;49m )\n",
      "File \u001b[0;32m~/Desktop/projects/10k_evaluation/data_retrival.py:71\u001b[0m, in \u001b[0;36mget_rate\u001b[0;34m(df, nom, denom, nom_source, denom_source, year)\u001b[0m\n\u001b[1;32m     68\u001b[0m \u001b[39mdef\u001b[39;00m \u001b[39mget_rate\u001b[39m(df, nom, denom, nom_source, denom_source ,year \u001b[39m=\u001b[39m \u001b[39mFalse\u001b[39;00m):\n\u001b[1;32m     70\u001b[0m     nom_data \u001b[39m=\u001b[39m df[(df[\u001b[39m'\u001b[39m\u001b[39mFinancial Indicators\u001b[39m\u001b[39m'\u001b[39m] \u001b[39m==\u001b[39m nom) \u001b[39m&\u001b[39m (df[\u001b[39m'\u001b[39m\u001b[39mData Source\u001b[39m\u001b[39m'\u001b[39m] \u001b[39m==\u001b[39m nom_source)]\n\u001b[0;32m---> 71\u001b[0m     denom_data \u001b[39m=\u001b[39m df[df[\u001b[39m'\u001b[39m\u001b[39mFinancial Indicators\u001b[39m\u001b[39m'\u001b[39m] \u001b[39m==\u001b[39m denom \u001b[39m&\u001b[39;49m (df[\u001b[39m'\u001b[39;49m\u001b[39mData Source\u001b[39;49m\u001b[39m'\u001b[39;49m] \u001b[39m==\u001b[39;49m denom_source)]\n\u001b[1;32m     73\u001b[0m     nom_values\u001b[39m=\u001b[39mnom_data\u001b[39m.\u001b[39miloc[:,\u001b[39m2\u001b[39m:]\u001b[39m.\u001b[39mvalues\n\u001b[1;32m     74\u001b[0m     denom_values\u001b[39m=\u001b[39mdenom_data\u001b[39m.\u001b[39miloc[:,\u001b[39m2\u001b[39m:]\u001b[39m.\u001b[39mvalues\n",
      "File \u001b[0;32m~/Desktop/projects/10k_evaluation/.10k/lib/python3.9/site-packages/pandas/core/ops/common.py:76\u001b[0m, in \u001b[0;36m_unpack_zerodim_and_defer.<locals>.new_method\u001b[0;34m(self, other)\u001b[0m\n\u001b[1;32m     72\u001b[0m             \u001b[39mreturn\u001b[39;00m \u001b[39mNotImplemented\u001b[39m\n\u001b[1;32m     74\u001b[0m other \u001b[39m=\u001b[39m item_from_zerodim(other)\n\u001b[0;32m---> 76\u001b[0m \u001b[39mreturn\u001b[39;00m method(\u001b[39mself\u001b[39;49m, other)\n",
      "File \u001b[0;32m~/Desktop/projects/10k_evaluation/.10k/lib/python3.9/site-packages/pandas/core/arraylike.py:74\u001b[0m, in \u001b[0;36mOpsMixin.__rand__\u001b[0;34m(self, other)\u001b[0m\n\u001b[1;32m     72\u001b[0m \u001b[39m@unpack_zerodim_and_defer\u001b[39m(\u001b[39m\"\u001b[39m\u001b[39m__rand__\u001b[39m\u001b[39m\"\u001b[39m)\n\u001b[1;32m     73\u001b[0m \u001b[39mdef\u001b[39;00m \u001b[39m__rand__\u001b[39m(\u001b[39mself\u001b[39m, other):\n\u001b[0;32m---> 74\u001b[0m     \u001b[39mreturn\u001b[39;00m \u001b[39mself\u001b[39;49m\u001b[39m.\u001b[39;49m_logical_method(other, roperator\u001b[39m.\u001b[39;49mrand_)\n",
      "File \u001b[0;32m~/Desktop/projects/10k_evaluation/.10k/lib/python3.9/site-packages/pandas/core/series.py:5810\u001b[0m, in \u001b[0;36mSeries._logical_method\u001b[0;34m(self, other, op)\u001b[0m\n\u001b[1;32m   5807\u001b[0m lvalues \u001b[39m=\u001b[39m \u001b[39mself\u001b[39m\u001b[39m.\u001b[39m_values\n\u001b[1;32m   5808\u001b[0m rvalues \u001b[39m=\u001b[39m extract_array(other, extract_numpy\u001b[39m=\u001b[39m\u001b[39mTrue\u001b[39;00m, extract_range\u001b[39m=\u001b[39m\u001b[39mTrue\u001b[39;00m)\n\u001b[0;32m-> 5810\u001b[0m res_values \u001b[39m=\u001b[39m ops\u001b[39m.\u001b[39;49mlogical_op(lvalues, rvalues, op)\n\u001b[1;32m   5811\u001b[0m \u001b[39mreturn\u001b[39;00m \u001b[39mself\u001b[39m\u001b[39m.\u001b[39m_construct_result(res_values, name\u001b[39m=\u001b[39mres_name)\n",
      "File \u001b[0;32m~/Desktop/projects/10k_evaluation/.10k/lib/python3.9/site-packages/pandas/core/ops/array_ops.py:456\u001b[0m, in \u001b[0;36mlogical_op\u001b[0;34m(left, right, op)\u001b[0m\n\u001b[1;32m    452\u001b[0m \u001b[39melse\u001b[39;00m:\n\u001b[1;32m    453\u001b[0m     \u001b[39m# i.e. scalar\u001b[39;00m\n\u001b[1;32m    454\u001b[0m     is_other_int_dtype \u001b[39m=\u001b[39m lib\u001b[39m.\u001b[39mis_integer(rvalues)\n\u001b[0;32m--> 456\u001b[0m res_values \u001b[39m=\u001b[39m na_logical_op(lvalues, rvalues, op)\n\u001b[1;32m    458\u001b[0m \u001b[39m# For int vs int `^`, `|`, `&` are bitwise operators and return\u001b[39;00m\n\u001b[1;32m    459\u001b[0m \u001b[39m#   integer dtypes.  Otherwise these are boolean ops\u001b[39;00m\n\u001b[1;32m    460\u001b[0m \u001b[39mif\u001b[39;00m \u001b[39mnot\u001b[39;00m (left\u001b[39m.\u001b[39mdtype\u001b[39m.\u001b[39mkind \u001b[39min\u001b[39;00m \u001b[39m\"\u001b[39m\u001b[39miu\u001b[39m\u001b[39m\"\u001b[39m \u001b[39mand\u001b[39;00m is_other_int_dtype):\n",
      "File \u001b[0;32m~/Desktop/projects/10k_evaluation/.10k/lib/python3.9/site-packages/pandas/core/ops/array_ops.py:387\u001b[0m, in \u001b[0;36mna_logical_op\u001b[0;34m(x, y, op)\u001b[0m\n\u001b[1;32m    379\u001b[0m         \u001b[39mexcept\u001b[39;00m (\n\u001b[1;32m    380\u001b[0m             \u001b[39mTypeError\u001b[39;00m,\n\u001b[1;32m    381\u001b[0m             \u001b[39mValueError\u001b[39;00m,\n\u001b[0;32m   (...)\u001b[0m\n\u001b[1;32m    384\u001b[0m             \u001b[39mNotImplementedError\u001b[39;00m,\n\u001b[1;32m    385\u001b[0m         ) \u001b[39mas\u001b[39;00m err:\n\u001b[1;32m    386\u001b[0m             typ \u001b[39m=\u001b[39m \u001b[39mtype\u001b[39m(y)\u001b[39m.\u001b[39m\u001b[39m__name__\u001b[39m\n\u001b[0;32m--> 387\u001b[0m             \u001b[39mraise\u001b[39;00m \u001b[39mTypeError\u001b[39;00m(\n\u001b[1;32m    388\u001b[0m                 \u001b[39mf\u001b[39m\u001b[39m\"\u001b[39m\u001b[39mCannot perform \u001b[39m\u001b[39m'\u001b[39m\u001b[39m{\u001b[39;00mop\u001b[39m.\u001b[39m\u001b[39m__name__\u001b[39m\u001b[39m}\u001b[39;00m\u001b[39m'\u001b[39m\u001b[39m with a dtyped [\u001b[39m\u001b[39m{\u001b[39;00mx\u001b[39m.\u001b[39mdtype\u001b[39m}\u001b[39;00m\u001b[39m] array \u001b[39m\u001b[39m\"\u001b[39m\n\u001b[1;32m    389\u001b[0m                 \u001b[39mf\u001b[39m\u001b[39m\"\u001b[39m\u001b[39mand scalar of type [\u001b[39m\u001b[39m{\u001b[39;00mtyp\u001b[39m}\u001b[39;00m\u001b[39m]\u001b[39m\u001b[39m\"\u001b[39m\n\u001b[1;32m    390\u001b[0m             ) \u001b[39mfrom\u001b[39;00m \u001b[39merr\u001b[39;00m\n\u001b[1;32m    392\u001b[0m \u001b[39mreturn\u001b[39;00m result\u001b[39m.\u001b[39mreshape(x\u001b[39m.\u001b[39mshape)\n",
      "\u001b[0;31mTypeError\u001b[0m: Cannot perform 'rand_' with a dtyped [bool] array and scalar of type [bool]"
     ]
    }
   ],
   "source": [
    "from data_retrival import *\n",
    "\n",
    "pepsi = get_data('PEP')\n",
    "get_rate(pepsi, 'Total Assets', 'Total Debt', 'bs', 'bs' )"
   ]
  },
  {
   "cell_type": "code",
   "execution_count": 6,
   "metadata": {},
   "outputs": [
    {
     "name": "stdout",
     "output_type": "stream",
     "text": [
      "   Financial Indicators Data Source     31-12-2022     31-12-2021  \\\n",
      "43         Total Assets          bs  92187000000.0  92377000000.0   \n",
      "\n",
      "       31-12-2020     31-12-2019  \n",
      "43  92918000000.0  78547000000.0  \n",
      "  Financial Indicators Data Source     31-12-2022     31-12-2021  \\\n",
      "4           Total Debt          bs  39071000000.0  40334000000.0   \n",
      "\n",
      "      31-12-2020     31-12-2019  \n",
      "4  44150000000.0  32068000000.0  \n"
     ]
    },
    {
     "data": {
      "text/html": [
       "<div>\n",
       "<style scoped>\n",
       "    .dataframe tbody tr th:only-of-type {\n",
       "        vertical-align: middle;\n",
       "    }\n",
       "\n",
       "    .dataframe tbody tr th {\n",
       "        vertical-align: top;\n",
       "    }\n",
       "\n",
       "    .dataframe thead th {\n",
       "        text-align: right;\n",
       "    }\n",
       "</style>\n",
       "<table border=\"1\" class=\"dataframe\">\n",
       "  <thead>\n",
       "    <tr style=\"text-align: right;\">\n",
       "      <th></th>\n",
       "      <th>31-12-2022</th>\n",
       "      <th>31-12-2021</th>\n",
       "      <th>31-12-2020</th>\n",
       "      <th>31-12-2019</th>\n",
       "    </tr>\n",
       "  </thead>\n",
       "  <tbody>\n",
       "    <tr>\n",
       "      <th>0</th>\n",
       "      <td>2.359474</td>\n",
       "      <td>2.290301</td>\n",
       "      <td>2.104598</td>\n",
       "      <td>2.449389</td>\n",
       "    </tr>\n",
       "  </tbody>\n",
       "</table>\n",
       "</div>"
      ],
      "text/plain": [
       "  31-12-2022 31-12-2021 31-12-2020 31-12-2019\n",
       "0   2.359474   2.290301   2.104598   2.449389"
      ]
     },
     "execution_count": 6,
     "metadata": {},
     "output_type": "execute_result"
    }
   ],
   "source": [
    "def get_rate(df, nom, denom, nom_source, denom_source ,year = False):\n",
    "\n",
    "    nom_data = df[(df['Financial Indicators'] == nom) & (df['Data Source'] == nom_source)]\n",
    "    print(nom_data)\n",
    "    denom_data = df[(df['Financial Indicators'] == denom) & (df['Data Source'] == denom_source)]\n",
    "    print(denom_data)\n",
    "    nom_values=nom_data.iloc[:,2:].values\n",
    "    denom_values=denom_data.iloc[:,2:].values\n",
    "    \n",
    "    rate=nom_values/denom_values\n",
    "    if year:\n",
    "        rate = rate * 365\n",
    "   \n",
    "    calc = pd.DataFrame(rate, columns=df.columns[2:])\n",
    "    \n",
    "    return calc\n",
    "\n",
    "get_rate(pepsi, 'Total Assets', 'Total Debt', 'bs', 'bs' )"
   ]
  },
  {
   "cell_type": "code",
   "execution_count": 3,
   "metadata": {},
   "outputs": [
    {
     "data": {
      "text/html": [
       "<div>\n",
       "<style scoped>\n",
       "    .dataframe tbody tr th:only-of-type {\n",
       "        vertical-align: middle;\n",
       "    }\n",
       "\n",
       "    .dataframe tbody tr th {\n",
       "        vertical-align: top;\n",
       "    }\n",
       "\n",
       "    .dataframe thead th {\n",
       "        text-align: right;\n",
       "    }\n",
       "</style>\n",
       "<table border=\"1\" class=\"dataframe\">\n",
       "  <thead>\n",
       "    <tr style=\"text-align: right;\">\n",
       "      <th></th>\n",
       "      <th>Financial Indicators</th>\n",
       "      <th>Data Source</th>\n",
       "      <th>31-12-2022</th>\n",
       "      <th>31-12-2021</th>\n",
       "      <th>31-12-2020</th>\n",
       "      <th>31-12-2019</th>\n",
       "    </tr>\n",
       "  </thead>\n",
       "  <tbody>\n",
       "    <tr>\n",
       "      <th>43</th>\n",
       "      <td>Total Assets</td>\n",
       "      <td>bs</td>\n",
       "      <td>92187000000.0</td>\n",
       "      <td>92377000000.0</td>\n",
       "      <td>92918000000.0</td>\n",
       "      <td>78547000000.0</td>\n",
       "    </tr>\n",
       "  </tbody>\n",
       "</table>\n",
       "</div>"
      ],
      "text/plain": [
       "   Financial Indicators Data Source     31-12-2022     31-12-2021  \\\n",
       "43         Total Assets          bs  92187000000.0  92377000000.0   \n",
       "\n",
       "       31-12-2020     31-12-2019  \n",
       "43  92918000000.0  78547000000.0  "
      ]
     },
     "execution_count": 3,
     "metadata": {},
     "output_type": "execute_result"
    }
   ],
   "source": [
    "pepsi[(pepsi['Financial Indicators'] == 'Total Assets') & (pepsi['Data Source'] == 'bs')]"
   ]
  }
 ],
 "metadata": {
  "kernelspec": {
   "display_name": ".10k",
   "language": "python",
   "name": "python3"
  },
  "language_info": {
   "codemirror_mode": {
    "name": "ipython",
    "version": 3
   },
   "file_extension": ".py",
   "mimetype": "text/x-python",
   "name": "python",
   "nbconvert_exporter": "python",
   "pygments_lexer": "ipython3",
   "version": "3.9.7"
  }
 },
 "nbformat": 4,
 "nbformat_minor": 2
}
