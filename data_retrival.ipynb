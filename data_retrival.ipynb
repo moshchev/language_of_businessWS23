{
 "cells": [
  {
   "cell_type": "code",
   "execution_count": 1,
   "metadata": {},
   "outputs": [],
   "source": [
    "import yfinance as yf"
   ]
  },
  {
   "cell_type": "code",
   "execution_count": 7,
   "metadata": {},
   "outputs": [],
   "source": [
    "cola = yf.Ticker('KO')\n",
    "cola_balance = cola.balance_sheet\n",
    "cola_income = cola.income_stmt\n",
    "cola_cf = cola.cash_flow"
   ]
  },
  {
   "cell_type": "code",
   "execution_count": 15,
   "metadata": {},
   "outputs": [],
   "source": [
    "pepsi = yf.Ticker('PEP')\n",
    "pepsi_balance = pepsi.balance_sheet\n",
    "pepsi_income = pepsi.income_stmt\n",
    "pepsi_cf = pepsi.cash_flow"
   ]
  }
 ],
 "metadata": {
  "kernelspec": {
   "display_name": "10k",
   "language": "python",
   "name": "10k"
  },
  "language_info": {
   "codemirror_mode": {
    "name": "ipython",
    "version": 3
   },
   "file_extension": ".py",
   "mimetype": "text/x-python",
   "name": "python",
   "nbconvert_exporter": "python",
   "pygments_lexer": "ipython3",
   "version": "3.9.7"
  }
 },
 "nbformat": 4,
 "nbformat_minor": 2
}
